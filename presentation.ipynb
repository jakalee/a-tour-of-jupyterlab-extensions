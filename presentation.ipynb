{
 "cells": [
  {
   "cell_type": "markdown",
   "metadata": {},
   "source": [
    "![](./img/skip.png)"
   ]
  },
  {
   "cell_type": "markdown",
   "metadata": {},
   "source": [
    "# A Tour of JupyterLab Extensions\n",
    "\n",
    "![jlab-logo](./img/jupyterlab-logo.png)\n",
    "\n",
    "## PyConDE & PyData Berlin 2019 - 2019-10-10\n",
    "\n",
    "## Jeremy Tuloup - [github.com/jtpio](https://github.com/jtpio)"
   ]
  },
  {
   "cell_type": "markdown",
   "metadata": {},
   "source": [
    "![](./img/skip.png)"
   ]
  },
  {
   "cell_type": "markdown",
   "metadata": {},
   "source": [
    "![quantstack](./img/quantstack-logo.svg)\n",
    "\n",
    "\n",
    "## Scientific Software Engineer\n",
    "\n",
    "## - [quantstack.net](https://quantstack.net)\n",
    "\n",
    "## - [github.com/jtpio](https://github.com/jtpio)\n",
    "\n",
    "## - [twitter.com/jtpio](https://twitter.com/jtpio)"
   ]
  },
  {
   "cell_type": "markdown",
   "metadata": {},
   "source": [
    "![](./img/skip.png)"
   ]
  },
  {
   "cell_type": "markdown",
   "metadata": {},
   "source": [
    "# Extending Jupyter\n",
    "\n",
    "## 99 ways to extend the Jupyter ecosystem\n",
    "\n",
    "### https://blog.jupyter.org/99-ways-to-extend-the-jupyter-ecosystem-11e5dab7c54\n",
    "\n",
    "![blog](./img/99-ways-extend-jupyter.png)"
   ]
  },
  {
   "cell_type": "markdown",
   "metadata": {},
   "source": [
    "![](./img/skip.png)"
   ]
  },
  {
   "cell_type": "markdown",
   "metadata": {},
   "source": [
    "![jlab](./img/jupyterlab-logo.png)"
   ]
  },
  {
   "cell_type": "markdown",
   "metadata": {},
   "source": [
    "![](./img/skip.png)"
   ]
  },
  {
   "cell_type": "markdown",
   "metadata": {},
   "source": [
    "# JupyterLab\n",
    "\n",
    "## - Next-gen UI for Jupyter\n",
    "\n",
    "## - 1.0\n",
    "\n",
    "## - Extensible by design\n",
    "\n",
    "## - 70+ extensions in core\n",
    "\n",
    "## - TypeScript & npm"
   ]
  },
  {
   "cell_type": "markdown",
   "metadata": {},
   "source": [
    "![](./img/skip.png)"
   ]
  },
  {
   "cell_type": "markdown",
   "metadata": {},
   "source": [
    "# Core extensions\n",
    "\n",
    "## - <div class=\"jp-FolderIcon \" style=\"min-width:20px;min-height:20px;background-repeat:no-repeat;display:inline-block;\"></div> File Browser\n",
    "## - <div class=\"jp-CodeConsoleIcon \" style=\"min-width:20px;min-height:20px;background-repeat:no-repeat;display:inline-block;\"></div> Console\n",
    "## - <div class=\"jp-NotebookIcon \" style=\"min-width:20px;min-height:20px;background-repeat:no-repeat;display:inline-block;\"></div> Notebook\n",
    "## - ..."
   ]
  },
  {
   "cell_type": "markdown",
   "metadata": {},
   "source": [
    "![](./img/skip.png)"
   ]
  },
  {
   "cell_type": "markdown",
   "metadata": {},
   "source": [
    "# Third-party extensions"
   ]
  },
  {
   "cell_type": "code",
   "execution_count": null,
   "metadata": {},
   "outputs": [],
   "source": [
    "from IPython.display import Video\n",
    "\n",
    "Video(\"./img/zethus.mp4\")"
   ]
  },
  {
   "cell_type": "markdown",
   "metadata": {},
   "source": [
    "![](./img/skip.png)"
   ]
  },
  {
   "cell_type": "markdown",
   "metadata": {},
   "source": [
    "# A Tour of 10 JupyterLab Extensions"
   ]
  },
  {
   "cell_type": "markdown",
   "metadata": {},
   "source": [
    "![](./img/skip.png)"
   ]
  },
  {
   "cell_type": "markdown",
   "metadata": {},
   "source": [
    "# #1. jupyterlab-git\n",
    "\n",
    "## https://github.com/jupyterlab/jupyterlab-git\n",
    "\n",
    "## `jupyter labextension install @jupyterlab/git`\n",
    "\n",
    "<img src=\"https://camo.githubusercontent.com/8e2f2b6abdaff6b180bf6aee95b288a7af0fde4d/687474703a2f2f672e7265636f726469742e636f2f4e39496b7a62796b38502e676966\" style=\"max-width:800px;\">"
   ]
  },
  {
   "cell_type": "markdown",
   "metadata": {},
   "source": [
    "![](./img/skip.png)"
   ]
  },
  {
   "cell_type": "markdown",
   "metadata": {},
   "source": [
    "# #2. nbdime\n",
    "\n",
    "## https://github.com/jupyter/nbdime\n",
    "\n",
    "## `pip install nbdime`\n",
    "\n",
    "## `jupyter labextension install nbdime-jupyterlab`\n",
    "\n",
    "<img src=\"https://raw.githubusercontent.com/jupyter/nbdime/master/docs/source/images/nbdiff-web.png\" style=\"max-width:800px;\">"
   ]
  },
  {
   "cell_type": "code",
   "execution_count": null,
   "metadata": {},
   "outputs": [],
   "source": [
    "# CHANGE ME\n",
    "a = 42"
   ]
  },
  {
   "cell_type": "markdown",
   "metadata": {},
   "source": [
    "![](./img/skip.png)"
   ]
  },
  {
   "cell_type": "markdown",
   "metadata": {},
   "source": [
    "# #3. jupyterlab_code_formatter\n",
    "\n",
    "## https://github.com/ryantam626/jupyterlab_code_formatter\n",
    "\n",
    "## `pip install jupyterlab_code_formatter`\n",
    "\n",
    "## `jupyter labextension install @ryantam626/jupyterlab_code_formatter`\n",
    "\n",
    "![code_formatter](./img/jupyterlab-code-formatter.gif)"
   ]
  },
  {
   "cell_type": "code",
   "execution_count": null,
   "metadata": {},
   "outputs": [],
   "source": [
    "from ipywidgets import Label, IntSlider, FloatSlider, HBox, VBox, Button, interact, Layout\n",
    "\n",
    "x = {  'a':1,'b':2,\n",
    "     \n",
    "'c': 3}"
   ]
  },
  {
   "cell_type": "markdown",
   "metadata": {},
   "source": [
    "![](./img/skip.png)"
   ]
  },
  {
   "cell_type": "markdown",
   "metadata": {},
   "source": [
    "# #4. jupyterlab-toc\n",
    "\n",
    "## https://github.com/jupyterlab/jupyterlab-toc\n",
    "\n",
    "## `jupyter labextension install @jupyterlab/toc`\n",
    "\n",
    "## ![jupyterlab-toc](./img/jupyterlab-toc.gif)"
   ]
  },
  {
   "cell_type": "markdown",
   "metadata": {},
   "source": [
    "![](./img/skip.png)"
   ]
  },
  {
   "cell_type": "markdown",
   "metadata": {
    "toc-hr-collapsed": false
   },
   "source": [
    "# #5. jupyterlab-quickopen\n",
    "\n",
    "## https://github.com/parente/jupyterlab-quickopen\n",
    "\n",
    "## `pip install jupyterlab-quickopen`\n",
    "\n",
    "## `jupyter labextension install @parente/jupyterlab-quickopen`\n",
    "\n",
    "![](./img/jupyterlab-quickopen.gif)"
   ]
  },
  {
   "cell_type": "markdown",
   "metadata": {},
   "source": [
    "![](./img/skip.png)"
   ]
  },
  {
   "cell_type": "markdown",
   "metadata": {
    "toc-hr-collapsed": false
   },
   "source": [
    "# #6. jupyterlab-sidecar\n",
    "\n",
    "## https://github.com/jupyter-widgets/jupyterlab-sidecar\n",
    "\n",
    "## `jupyter labextension install @jupyter-widgets/jupyterlab-sidecar`\n",
    "\n",
    "![jupyterlab-sidecar](./img/jupyterlab-sidecar.gif)"
   ]
  },
  {
   "cell_type": "markdown",
   "metadata": {},
   "source": [
    "### Example with ipycanvas by Martin Renou: https://twitter.com/martinRenou"
   ]
  },
  {
   "cell_type": "code",
   "execution_count": null,
   "metadata": {},
   "outputs": [],
   "source": [
    "from math import pi\n",
    "\n",
    "from ipycanvas import Canvas\n",
    "from sidecar import Sidecar\n",
    "\n",
    "canvas = Canvas(size=(200, 200))\n",
    "canvas"
   ]
  },
  {
   "cell_type": "code",
   "execution_count": null,
   "metadata": {},
   "outputs": [],
   "source": [
    "# Draw a poker face\n",
    "canvas.clear()\n",
    "canvas.begin_path()\n",
    "canvas.arc(75, 75, 50, 0, pi * 2, True) # Outer circle\n",
    "canvas.move_to(105, 95)\n",
    "canvas.line_to(45, 95) # straight mouth\n",
    "canvas.move_to(65, 65)\n",
    "canvas.arc(60, 65, 5, 0, pi * 2, True) # Left eye\n",
    "canvas.move_to(95, 65)\n",
    "canvas.arc(90, 65, 5, 0, pi * 2, True) # Right eye\n",
    "canvas.stroke()"
   ]
  },
  {
   "cell_type": "code",
   "execution_count": null,
   "metadata": {},
   "outputs": [],
   "source": [
    "sc = Sidecar(title='smiley')\n",
    "\n",
    "with sc:\n",
    "    display(canvas)"
   ]
  },
  {
   "cell_type": "code",
   "execution_count": null,
   "metadata": {},
   "outputs": [],
   "source": [
    "# make her happy!\n",
    "\n",
    "canvas.clear()\n",
    "canvas.begin_path()\n",
    "canvas.arc(75, 75, 50, 0, pi * 2, True) # Outer circle\n",
    "canvas.move_to(110, 75)\n",
    "canvas.arc(75, 75, 35, 0, pi, False) # Mouth (clockwise)\n",
    "canvas.move_to(65, 65)\n",
    "canvas.arc(60, 65, 5, 0, pi * 2, True) # Left eye\n",
    "canvas.move_to(95, 65)\n",
    "canvas.arc(90, 65, 5, 0, pi * 2, True) # Right eye\n",
    "canvas.stroke()"
   ]
  },
  {
   "cell_type": "markdown",
   "metadata": {},
   "source": [
    "![](./img/skip.png)"
   ]
  },
  {
   "cell_type": "markdown",
   "metadata": {
    "toc-hr-collapsed": false
   },
   "source": [
    "# #7. jupyterlab-drawio\n",
    "\n",
    "## https://github.com/QuantStack/jupyterlab-drawio\n",
    "\n",
    "## `jupyter labextension install jupyterlab-drawio`\n",
    "\n",
    "![](./img/jupyterlab-drawio.gif)"
   ]
  },
  {
   "cell_type": "markdown",
   "metadata": {},
   "source": [
    "![](./img/skip.png)"
   ]
  },
  {
   "cell_type": "markdown",
   "metadata": {
    "toc-hr-collapsed": false
   },
   "source": [
    "# #8. jupyterlab-topbar\n",
    "\n",
    "## https://github.com/jtpio/jupyterlab-topbar\n",
    "\n",
    "## `jupyter labextension install jupyterlab-topbar jupyterlab-topbar-extension`\n",
    "\n",
    "![](./img/jupyterlab-topbar.gif)"
   ]
  },
  {
   "cell_type": "markdown",
   "metadata": {},
   "source": [
    "![](./img/skip.png)"
   ]
  },
  {
   "cell_type": "markdown",
   "metadata": {
    "toc-hr-collapsed": false
   },
   "source": [
    "# #9. jupyterlab-sql\n",
    "\n",
    "## https://github.com/pbugnion/jupyterlab-sql\n",
    "\n",
    "## `pip install jupyterlab_sql`\n",
    "\n",
    "## `jupyter serverextension enable jupyterlab_sql --py --sys-prefix`\n",
    "\n",
    "![](./img/jupyterlab-sql.gif)"
   ]
  },
  {
   "cell_type": "markdown",
   "metadata": {},
   "source": [
    "![](./img/skip.png)"
   ]
  },
  {
   "cell_type": "markdown",
   "metadata": {
    "toc-hr-collapsed": false
   },
   "source": [
    "# #10. jupyterlab-go-to-definition\n",
    "\n",
    "## https://github.com/krassowski/jupyterlab-go-to-definition\n",
    "\n",
    "### `jupyter labextension install @krassowski/jupyterlab_go_to_definition`\n",
    "\n",
    "![](./img/jupyterlab-go-to-definition.gif)"
   ]
  },
  {
   "cell_type": "code",
   "execution_count": null,
   "metadata": {},
   "outputs": [],
   "source": [
    "def add(a, b):\n",
    "    return a + b"
   ]
  },
  {
   "cell_type": "code",
   "execution_count": null,
   "metadata": {},
   "outputs": [],
   "source": [
    "add(2, 2)"
   ]
  },
  {
   "cell_type": "markdown",
   "metadata": {},
   "source": [
    "![](./img/skip.png)"
   ]
  },
  {
   "cell_type": "markdown",
   "metadata": {
    "toc-hr-collapsed": false
   },
   "source": [
    "# 10 more!"
   ]
  },
  {
   "cell_type": "markdown",
   "metadata": {},
   "source": [
    "![](./img/skip.png)"
   ]
  },
  {
   "cell_type": "markdown",
   "metadata": {
    "toc-hr-collapsed": false
   },
   "source": [
    "# #11. jupyterlab-lsp\n",
    "\n",
    "## https://github.com/krassowski/jupyterlab-lsp\n",
    "\n",
    "![](./img/jupyterlab-lsp.png)"
   ]
  },
  {
   "cell_type": "markdown",
   "metadata": {},
   "source": [
    "![](./img/skip.png)"
   ]
  },
  {
   "cell_type": "markdown",
   "metadata": {
    "toc-hr-collapsed": false
   },
   "source": [
    "# #12. @jupyter-voila/jupyterlab-preview\n",
    "\n",
    "## https://github.com/voila-dashboards/voila\n",
    "\n",
    "## [example.ipynb](./examples/basics.ipynb)\n",
    "\n",
    "![](./img/voila-jupyterlab-preview.gif)"
   ]
  },
  {
   "cell_type": "markdown",
   "metadata": {},
   "source": [
    "![](./img/skip.png)"
   ]
  },
  {
   "cell_type": "markdown",
   "metadata": {
    "toc-hr-collapsed": false
   },
   "source": [
    "# #13. jupyterlab-python-bytecode\n",
    "\n",
    "## https://github.com/jtpio/jupyterlab-python-bytecode\n",
    "\n",
    "![](./img/jupyterlab-python-bytecode.gif)"
   ]
  },
  {
   "cell_type": "markdown",
   "metadata": {},
   "source": [
    "![](./img/skip.png)"
   ]
  },
  {
   "cell_type": "markdown",
   "metadata": {
    "toc-hr-collapsed": false
   },
   "source": [
    "# #14. jupyterlab-matplotlib\n",
    "\n",
    "## https://github.com/matplotlib/jupyter-matplotlib\n",
    "\n",
    "![](./img/jupyterlab-matplotlib.gif)"
   ]
  },
  {
   "cell_type": "markdown",
   "metadata": {},
   "source": [
    "![](./img/skip.png)"
   ]
  },
  {
   "cell_type": "markdown",
   "metadata": {
    "toc-hr-collapsed": false
   },
   "source": [
    "# #15. jupyterlab-variableinspector\n",
    "\n",
    "## https://github.com/lckr/jupyterlab-variableInspector\n",
    "\n",
    "![](./img/jupyterlab-variableinspector.gif)"
   ]
  },
  {
   "cell_type": "markdown",
   "metadata": {},
   "source": [
    "![](./img/skip.png)"
   ]
  },
  {
   "cell_type": "markdown",
   "metadata": {
    "toc-hr-collapsed": false
   },
   "source": [
    "# #16. jupyterlab-kernelspy\n",
    "\n",
    "## https://github.com/vidartf/jupyterlab-kernelspy\n",
    "\n",
    "![](./img/jupyterlab-kernelspy.png)"
   ]
  },
  {
   "cell_type": "markdown",
   "metadata": {},
   "source": [
    "![](./img/skip.png)"
   ]
  },
  {
   "cell_type": "markdown",
   "metadata": {
    "toc-hr-collapsed": false
   },
   "source": [
    "# #17. jupyterlab-heroku\n",
    "\n",
    "## https://github.com/jtpio/jupyterlab-heroku\n",
    "\n",
    "![](./img/jupyterlab-heroku.gif)"
   ]
  },
  {
   "cell_type": "markdown",
   "metadata": {},
   "source": [
    "![](./img/skip.png)"
   ]
  },
  {
   "cell_type": "markdown",
   "metadata": {
    "toc-hr-collapsed": false
   },
   "source": [
    "# #18. jupyterlab-templates\n",
    "\n",
    "## https://github.com/timkpaine/jupyterlab_templates\n",
    "\n",
    "![](./img/jupyterlab-templates.gif)"
   ]
  },
  {
   "cell_type": "markdown",
   "metadata": {},
   "source": [
    "![](./img/skip.png)"
   ]
  },
  {
   "cell_type": "markdown",
   "metadata": {
    "toc-hr-collapsed": false
   },
   "source": [
    "# #19. jupyterlab-celltags\n",
    "\n",
    "## https://github.com/jupyterlab/jupyterlab-celltags\n",
    "\n",
    "![](./img/jupyterlab-celltags.gif)"
   ]
  },
  {
   "cell_type": "markdown",
   "metadata": {},
   "source": [
    "![](./img/skip.png)"
   ]
  },
  {
   "cell_type": "markdown",
   "metadata": {
    "toc-hr-collapsed": false
   },
   "source": [
    "# #20. jupyterlab-material-darker\n",
    "\n",
    "## https://github.com/oriolmirosa/jupyterlab_materialdarker\n",
    "\n",
    "![](./img/jupyterlab-material-darker.png)"
   ]
  },
  {
   "cell_type": "markdown",
   "metadata": {},
   "source": [
    "![](./img/skip.png)"
   ]
  },
  {
   "cell_type": "markdown",
   "metadata": {
    "toc-hr-collapsed": false
   },
   "source": [
    "#  Where to find new JupyterLab extensions?"
   ]
  },
  {
   "cell_type": "markdown",
   "metadata": {},
   "source": [
    "![](./img/skip.png)"
   ]
  },
  {
   "cell_type": "markdown",
   "metadata": {},
   "source": [
    "## [github.com/topics/jupyterlab-extension](https://github.com/topics/jupyterlab-extension)\n",
    "\n",
    "![github-topic](./img/jupyterlab-extensions-github.png)"
   ]
  },
  {
   "cell_type": "markdown",
   "metadata": {},
   "source": [
    "![](./img/skip.png)"
   ]
  },
  {
   "cell_type": "markdown",
   "metadata": {},
   "source": [
    "## Extension Manager\n",
    "\n",
    "![screenshot](./img/extension-manager.png)"
   ]
  },
  {
   "cell_type": "markdown",
   "metadata": {},
   "source": [
    "![](./img/skip.png)"
   ]
  },
  {
   "cell_type": "markdown",
   "metadata": {},
   "source": [
    "![awesome-jupyter](./img/awesome-jupyter.png)\n",
    "\n",
    "### https://github.com/markusschanta/awesome-jupyter"
   ]
  },
  {
   "cell_type": "markdown",
   "metadata": {},
   "source": [
    "![](./img/skip.png)"
   ]
  },
  {
   "cell_type": "markdown",
   "metadata": {
    "toc-hr-collapsed": false
   },
   "source": [
    "#  What's next?"
   ]
  },
  {
   "cell_type": "markdown",
   "metadata": {},
   "source": [
    "![](./img/skip.png)"
   ]
  },
  {
   "cell_type": "markdown",
   "metadata": {
    "toc-hr-collapsed": false
   },
   "source": [
    "# Debugger UI\n",
    "\n",
    "![debugger](./img/jupyterlab-debugger.png)\n",
    "\n",
    "# Rich Text Mode\n",
    "\n",
    "![rich-text-mode](./img/jupyterlab-rich-text-mode.gif)\n",
    "\n",
    "# Package installer\n",
    "\n",
    "![pkg-installer](./img/jupyterlab-pkg-installer.gif)\n",
    "\n",
    "# Commenting\n",
    "\n",
    "![jupyterlab-commenting](./img/jupyterlab-commenting.gif)\n",
    "\n",
    "# Many more!"
   ]
  },
  {
   "cell_type": "markdown",
   "metadata": {},
   "source": [
    "![](./img/skip.png)"
   ]
  },
  {
   "cell_type": "markdown",
   "metadata": {
    "toc-hr-collapsed": true
   },
   "source": [
    "## Thanks!\n",
    "\n",
    "## [github.com/jtpio](https://github.com/jtpio)"
   ]
  },
  {
   "cell_type": "markdown",
   "metadata": {},
   "source": [
    "![](./img/skip.png)"
   ]
  }
 ],
 "metadata": {
  "kernelspec": {
   "display_name": "Python 3",
   "language": "python",
   "name": "python3"
  },
  "language_info": {
   "codemirror_mode": {
    "name": "ipython",
    "version": 3
   },
   "file_extension": ".py",
   "mimetype": "text/x-python",
   "name": "python",
   "nbconvert_exporter": "python",
   "pygments_lexer": "ipython3",
   "version": "3.7.3"
  },
  "toc-autonumbering": false,
  "toc-showmarkdowntxt": false,
  "toc-showtags": false
 },
 "nbformat": 4,
 "nbformat_minor": 4
}
