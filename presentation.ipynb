{
 "cells": [
  {
   "cell_type": "markdown",
   "metadata": {},
   "source": [
    "![](./img/skip.png)"
   ]
  },
  {
   "cell_type": "markdown",
   "metadata": {},
   "source": [
    "# A Tour of JupyterLab Extensions\n",
    "\n",
    "![jlab-logo](./img/jupyterlab-logo.png)\n",
    "\n",
    "## PyData Berlin 2019 - 2019-10-10\n",
    "\n",
    "## Jeremy Tuloup - [github.com/jtpio](https://github.com/jtpio)"
   ]
  },
  {
   "cell_type": "markdown",
   "metadata": {},
   "source": [
    "![](./img/skip.png)"
   ]
  },
  {
   "cell_type": "markdown",
   "metadata": {},
   "source": [
    "![quantstack](./img/quantstack-logo.svg)\n",
    "\n",
    "\n",
    "## Scientific Software Engineer\n",
    "\n",
    "## - [github.com/jtpio](https://github.com/jtpio)\n",
    "\n",
    "## - [twitter.com/jtpio](https://twitter.com/jtpio)"
   ]
  },
  {
   "cell_type": "markdown",
   "metadata": {},
   "source": [
    "![](./img/skip.png)"
   ]
  },
  {
   "cell_type": "markdown",
   "metadata": {},
   "source": [
    "# Extending Jupyter\n",
    "\n",
    "## 99 ways to extend the Jupyter ecosystem\n",
    "\n",
    "### https://blog.jupyter.org/99-ways-to-extend-the-jupyter-ecosystem-11e5dab7c54\n",
    "\n",
    "![blog](./img/99-ways-extend-jupyter.png)"
   ]
  },
  {
   "cell_type": "markdown",
   "metadata": {},
   "source": [
    "![](./img/skip.png)"
   ]
  },
  {
   "cell_type": "markdown",
   "metadata": {},
   "source": [
    "# JupyterLab\n",
    "\n",
    "![jlab](./img/jupyterlab-logo.png)"
   ]
  },
  {
   "cell_type": "markdown",
   "metadata": {},
   "source": [
    "![](./img/skip.png)"
   ]
  },
  {
   "cell_type": "markdown",
   "metadata": {},
   "source": [
    "# JupyterLab vs Classic Notebook\n",
    "\n",
    "## - Next-gen UI for Jupyter\n",
    "\n",
    "## - Extensible by design\n",
    "\n",
    "## - 70+ extensions in core\n",
    "\n",
    "## - TypeScript, npm"
   ]
  },
  {
   "cell_type": "markdown",
   "metadata": {},
   "source": [
    "![](./img/skip.png)"
   ]
  },
  {
   "cell_type": "markdown",
   "metadata": {},
   "source": [
    "# Core extensions\n",
    "\n",
    "## - <div class=\"jp-FolderIcon \" style=\"min-width:20px;min-height:20px;background-repeat:no-repeat;display:inline-block;\"></div> File Browser\n",
    "## - <div class=\"jp-CodeConsoleIcon \" style=\"min-width:20px;min-height:20px;background-repeat:no-repeat;display:inline-block;\"></div> Console\n",
    "## - <div class=\"jp-NotebookIcon \" style=\"min-width:20px;min-height:20px;background-repeat:no-repeat;display:inline-block;\"></div> Notebook\n",
    "## - ..."
   ]
  },
  {
   "cell_type": "markdown",
   "metadata": {},
   "source": [
    "![](./img/skip.png)"
   ]
  },
  {
   "cell_type": "markdown",
   "metadata": {},
   "source": [
    "# Third-party extensions\n",
    "\n",
    "## TODO: add gif for jupyter-ros and other fancy extensions"
   ]
  },
  {
   "cell_type": "markdown",
   "metadata": {},
   "source": [
    "![](./img/skip.png)"
   ]
  },
  {
   "cell_type": "markdown",
   "metadata": {},
   "source": [
    "# A Tour of 10 JupyterLab Extensions"
   ]
  },
  {
   "cell_type": "markdown",
   "metadata": {},
   "source": [
    "![](./img/skip.png)"
   ]
  },
  {
   "cell_type": "markdown",
   "metadata": {},
   "source": [
    "# #1. jupyterlab-git\n",
    "\n",
    "## https://github.com/jupyterlab/jupyterlab-git\n",
    "\n",
    "## `jupyter labextension install @jupyterlab/git`\n",
    "\n",
    "<img src=\"https://camo.githubusercontent.com/8e2f2b6abdaff6b180bf6aee95b288a7af0fde4d/687474703a2f2f672e7265636f726469742e636f2f4e39496b7a62796b38502e676966\" style=\"max-width:800px;\">"
   ]
  },
  {
   "cell_type": "markdown",
   "metadata": {},
   "source": [
    "![](./img/skip.png)"
   ]
  },
  {
   "cell_type": "markdown",
   "metadata": {},
   "source": [
    "# #2. nbdime\n",
    "\n",
    "## https://github.com/jupyter/nbdime\n",
    "\n",
    "## `pip install nbdime`\n",
    "\n",
    "## `jupyter labextension install nbdime-jupyterlab`\n",
    "\n",
    "<img src=\"https://raw.githubusercontent.com/jupyter/nbdime/master/docs/source/images/nbdiff-web.png\" style=\"max-width:800px;\">"
   ]
  },
  {
   "cell_type": "markdown",
   "metadata": {},
   "source": [
    "![](./img/skip.png)"
   ]
  },
  {
   "cell_type": "markdown",
   "metadata": {
    "toc-hr-collapsed": false
   },
   "source": [
    "# #5. jupyterlab-python-bytecode\n",
    "\n",
    "## https://github.com/jtpio/jupyterlab-python-bytecode\n",
    "\n",
    "## `jupyter labextension install jupyterlab-python-bytecode`\n",
    "\n",
    "![](https://raw.githubusercontent.com/jtpio/jupyterlab-python-bytecode/master/doc/live_update.gif)"
   ]
  },
  {
   "cell_type": "markdown",
   "metadata": {},
   "source": [
    "![](./img/skip.png)"
   ]
  },
  {
   "cell_type": "markdown",
   "metadata": {
    "toc-hr-collapsed": false
   },
   "source": [
    "# #6. jupyterlab-quickopen\n",
    "\n",
    "## https://github.com/parente/jupyterlab-quickopen\n",
    "\n",
    "## `pip install jupyterlab-quickopen`\n",
    "\n",
    "## `jupyter labextension install @parente/jupyterlab-quickopen`\n",
    "\n",
    "![](https://raw.githubusercontent.com/parente/jupyterlab-quickopen/master/doc/quickopen.gif)"
   ]
  },
  {
   "cell_type": "markdown",
   "metadata": {},
   "source": [
    "![](./img/skip.png)"
   ]
  },
  {
   "cell_type": "markdown",
   "metadata": {
    "toc-hr-collapsed": false
   },
   "source": [
    "# #8. jupyterlab-sidecar\n",
    "\n",
    "## https://github.com/jupyter-widgets/jupyterlab-sidecar\n",
    "\n",
    "## `jupyter labextension install @jupyter-widgets/jupyterlab-sidecar`\n",
    "\n",
    "<img src=\"https://raw.githubusercontent.com/jupyter-widgets/jupyterlab-sidecar/master/sidecar.gif\" style=\"max-width:800px\">"
   ]
  },
  {
   "cell_type": "code",
   "execution_count": null,
   "metadata": {},
   "outputs": [],
   "source": [
    "# TODO: add example"
   ]
  },
  {
   "cell_type": "markdown",
   "metadata": {},
   "source": [
    "![](./img/skip.png)"
   ]
  },
  {
   "cell_type": "markdown",
   "metadata": {
    "toc-hr-collapsed": false
   },
   "source": [
    "# #9. jupyterlab-drawio\n",
    "\n",
    "## https://github.com/QuantStack/jupyterlab-drawio\n",
    "\n",
    "## `jupyter labextension install jupyterlab-drawio`\n",
    "\n",
    "![](https://raw.githubusercontent.com/QuantStack/jupyterlab-drawio/master/drawio.gif)"
   ]
  },
  {
   "cell_type": "markdown",
   "metadata": {},
   "source": [
    "![](./img/skip.png)"
   ]
  },
  {
   "cell_type": "markdown",
   "metadata": {},
   "source": [
    "# #10. jupyterlab-toc\n",
    "\n",
    "## https://github.com/jupyterlab/jupyterlab-toc\n",
    "\n",
    "## `jupyter labextension install @jupyterlab/toc`\n",
    "\n",
    "<img src=\"https://raw.githubusercontent.com/jupyterlab/jupyterlab-toc/master/toc.gif\" style=\"max-width:800px\">"
   ]
  },
  {
   "cell_type": "markdown",
   "metadata": {},
   "source": [
    "![](./img/skip.png)"
   ]
  },
  {
   "cell_type": "markdown",
   "metadata": {
    "toc-hr-collapsed": false
   },
   "source": [
    "# Bonus: 10 more!\n",
    "\n",
    "## TODO"
   ]
  },
  {
   "cell_type": "markdown",
   "metadata": {},
   "source": [
    "![](./img/skip.png)"
   ]
  },
  {
   "cell_type": "markdown",
   "metadata": {
    "toc-hr-collapsed": false
   },
   "source": [
    "#  Where to find new JupyterLab extensions?"
   ]
  },
  {
   "cell_type": "markdown",
   "metadata": {},
   "source": [
    "![](./img/skip.png)"
   ]
  },
  {
   "cell_type": "markdown",
   "metadata": {},
   "source": [
    "## https://github.com/topics/jupyterlab-extension\n",
    "\n",
    "![github-topic](./img/jupyterlab-extensions-github.png)"
   ]
  },
  {
   "cell_type": "markdown",
   "metadata": {},
   "source": [
    "![](./img/skip.png)"
   ]
  },
  {
   "cell_type": "markdown",
   "metadata": {},
   "source": [
    "## Extension Manager\n",
    "\n",
    "![screenshot](./img/extension-manager.png)"
   ]
  },
  {
   "cell_type": "markdown",
   "metadata": {},
   "source": [
    "![](./img/skip.png)"
   ]
  },
  {
   "cell_type": "markdown",
   "metadata": {},
   "source": [
    "![awesome-jupyter](./img/awesome-jupyter.png)\n",
    "\n",
    "### https://github.com/markusschanta/awesome-jupyter"
   ]
  },
  {
   "cell_type": "markdown",
   "metadata": {},
   "source": [
    "![](./img/skip.png)"
   ]
  },
  {
   "cell_type": "markdown",
   "metadata": {
    "toc-hr-collapsed": false
   },
   "source": [
    "#  What's next?"
   ]
  },
  {
   "cell_type": "markdown",
   "metadata": {},
   "source": [
    "![](./img/skip.png)"
   ]
  },
  {
   "cell_type": "markdown",
   "metadata": {
    "toc-hr-collapsed": false
   },
   "source": [
    "# Debugger UI\n",
    "\n",
    "![debugger](./img/jupyterlab-debugger.png)\n",
    "\n",
    "# Rich Text Mode\n",
    "\n",
    "![rich-text-mode](./img/jupyterlab-rich-text-mode.gif)\n",
    "\n",
    "# Package installer\n",
    "\n",
    "![pkg-installer](./img/jupyterlab-pkg-installer.gif)\n",
    "\n",
    "# Commenting\n",
    "\n",
    "![jupyterlab-commenting](./img/jupyterlab-commenting.gif)\n",
    "\n",
    "# Many more!"
   ]
  },
  {
   "cell_type": "markdown",
   "metadata": {},
   "source": [
    "![](./img/skip.png)"
   ]
  },
  {
   "cell_type": "markdown",
   "metadata": {
    "toc-hr-collapsed": true
   },
   "source": [
    "## Thanks!\n",
    "\n",
    "## [github.com/jtpio](https://github.com/jtpio)"
   ]
  },
  {
   "cell_type": "markdown",
   "metadata": {},
   "source": [
    "![](./img/skip.png)"
   ]
  }
 ],
 "metadata": {
  "kernelspec": {
   "display_name": "Python 3",
   "language": "python",
   "name": "python3"
  },
  "language_info": {
   "codemirror_mode": {
    "name": "ipython",
    "version": 3
   },
   "file_extension": ".py",
   "mimetype": "text/x-python",
   "name": "python",
   "nbconvert_exporter": "python",
   "pygments_lexer": "ipython3",
   "version": "3.7.3"
  },
  "toc-autonumbering": false,
  "toc-showtags": false
 },
 "nbformat": 4,
 "nbformat_minor": 4
}
